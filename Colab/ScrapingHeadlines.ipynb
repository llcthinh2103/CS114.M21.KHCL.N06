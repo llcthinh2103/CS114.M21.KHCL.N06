{
  "nbformat": 4,
  "nbformat_minor": 0,
  "metadata": {
    "colab": {
      "name": "ScrapingHeadlines",
      "provenance": [],
      "collapsed_sections": []
    },
    "kernelspec": {
      "name": "python3",
      "display_name": "Python 3"
    },
    "language_info": {
      "name": "python"
    }
  },
  "cells": [
    {
      "cell_type": "markdown",
      "source": [
        "# Import libraries"
      ],
      "metadata": {
        "id": "xKoRsoMmEiSo"
      }
    },
    {
      "cell_type": "code",
      "source": [
        "import requests\n",
        "from bs4 import BeautifulSoup\n",
        "import pandas as pd"
      ],
      "metadata": {
        "id": "VM-m6xMd1GUc"
      },
      "execution_count": null,
      "outputs": []
    },
    {
      "cell_type": "markdown",
      "source": [
        "# Non-sarcastic"
      ],
      "metadata": {
        "id": "tB_xIfVVE5Nn"
      }
    },
    {
      "cell_type": "markdown",
      "source": [
        "## Scraping headlines from Google News "
      ],
      "metadata": {
        "id": "Uour9lsDElfx"
      }
    },
    {
      "cell_type": "code",
      "source": [
        "url_business = 'https://news.google.com/topics/CAAqJggKIiBDQkFTRWdvSUwyMHZNRFZxYUdjU0FtVnVHZ0pWVXlnQVAB/sections/CAQiSENCQVNNQW9JTDIwdk1EVnFhR2NTQW1WdUdnSlZVeUlPQ0FRYUNnb0lMMjB2TURsek1XWXFEQW9LRWdoQ2RYTnBibVZ6Y3lnQSoqCAAqJggKIiBDQkFTRWdvSUwyMHZNRFZxYUdjU0FtVnVHZ0pWVXlnQVABUAE?hl=en-US&gl=US&ceid=US%3Aen'\n",
        "url_health = 'https://news.google.com/topics/CAAqJggKIiBDQkFTRWdvSUwyMHZNRFZxYUdjU0FtVnVHZ0pWVXlnQVAB/sections/CAQiRkNCQVNMZ29JTDIwdk1EVnFhR2NTQW1WdUdnSlZVeUlPQ0FRYUNnb0lMMjB2TUd0ME5URXFDZ29JRWdaSVpXRnNkR2dvQUEqKggAKiYICiIgQ0JBU0Vnb0lMMjB2TURWcWFHY1NBbVZ1R2dKVlV5Z0FQAVAB?hl=en-US&gl=US&ceid=US%3Aen'\n",
        "url_technology = 'https://news.google.com/topics/CAAqJggKIiBDQkFTRWdvSUwyMHZNRFZxYUdjU0FtVnVHZ0pWVXlnQVAB/sections/CAQiS0NCQVNNZ29JTDIwdk1EVnFhR2NTQW1WdUdnSlZVeUlPQ0FRYUNnb0lMMjB2TURkak1YWXFEZ29NRWdwVVpXTm9ibTlzYjJkNUtBQSoqCAAqJggKIiBDQkFTRWdvSUwyMHZNRFZxYUdjU0FtVnVHZ0pWVXlnQVABUAE?hl=en-US&gl=US&ceid=US%3Aen'\n",
        "url_science = 'https://news.google.com/topics/CAAqJggKIiBDQkFTRWdvSUwyMHZNRFZxYUdjU0FtVnVHZ0pWVXlnQVAB/sections/CAQiR0NCQVNMd29JTDIwdk1EVnFhR2NTQW1WdUdnSlZVeUlPQ0FRYUNnb0lMMjB2TURadGNUY3FDd29KRWdkVFkybGxibU5sS0FBKioIAComCAoiIENCQVNFZ29JTDIwdk1EVnFhR2NTQW1WdUdnSlZVeWdBUAFQAQ?hl=en-US&gl=US&ceid=US%3Aen'\n",
        "url_world = 'https://news.google.com/topics/CAAqJggKIiBDQkFTRWdvSUwyMHZNRFZxYUdjU0FtVnVHZ0pWVXlnQVAB/sections/CAQiRENCQVNMUW9JTDIwdk1EVnFhR2NTQW1WdUdnSlZVeUlPQ0FRYUNnb0lMMjB2TURsdWJWOHFDUW9IRWdWWGIzSnNaQ2dBKioIAComCAoiIENCQVNFZ29JTDIwdk1EVnFhR2NTQW1WdUdnSlZVeWdBUAFQAQ?hl=en-US&gl=US&ceid=US%3Aen'\n",
        "url_us = 'https://news.google.com/topics/CAAqJggKIiBDQkFTRWdvSUwyMHZNRFZxYUdjU0FtVnVHZ0pWVXlnQVAB/sections/CAQiRENCQVNMUW9JTDIwdk1EVnFhR2NTQW1WdUdnSlZVeUlQQ0FRYUN3b0pMMjB2TURsak4zY3dLZ2dLQmhJRVZTNVRMaWdBKioIAComCAoiIENCQVNFZ29JTDIwdk1EVnFhR2NTQW1WdUdnSlZVeWdBUAFQAQ?hl=en-US&gl=US&ceid=US%3Aen'\n",
        "url_sport = 'https://news.google.com/topics/CAAqJggKIiBDQkFTRWdvSUwyMHZNRFZxYUdjU0FtVnVHZ0pWVXlnQVAB/sections/CAQiRkNCQVNMZ29JTDIwdk1EVnFhR2NTQW1WdUdnSlZVeUlPQ0FRYUNnb0lMMjB2TURadWRHb3FDZ29JRWdaVGNHOXlkSE1vQUEqKggAKiYICiIgQ0JBU0Vnb0lMMjB2TURWcWFHY1NBbVZ1R2dKVlV5Z0FQAVAB?hl=en-US&gl=US&ceid=US%3Aen'\n",
        "urls = [url_business, url_health, url_technology, url_science, url_sport, url_world, url_us]\n",
        "result_0 = []\n",
        "for url in urls:\n",
        "    response = requests.get(url)\n",
        "    soup = BeautifulSoup(response.text, 'html.parser')\n",
        "    headlines = soup.find('body').find_all('h4')\n",
        "    for x in headlines:\n",
        "        result_0.append(x.text.strip())"
      ],
      "metadata": {
        "id": "v_Xaw5n6417j"
      },
      "execution_count": null,
      "outputs": []
    },
    {
      "cell_type": "markdown",
      "source": [
        "## Scraping headlines from BBC News"
      ],
      "metadata": {
        "id": "FZiwFDXjEwG3"
      }
    },
    {
      "cell_type": "code",
      "source": [
        "urls = ['https://www.bbc.com/news/world-60525350', \n",
        "        'https://www.bbc.com/news/coronavirus', \n",
        "        'https://www.bbc.com/news/science-environment-56837908']\n",
        "for url in urls:\n",
        "    response = requests.get(url)\n",
        "    temp = []\n",
        "    soup = BeautifulSoup(response.text, 'html.parser')\n",
        "    headlines = soup.find('body').find_all('h3')\n",
        "    for x in headlines:\n",
        "        temp.append(x.text.strip())\n",
        "    temp = temp[:len(temp)-3]\n",
        "    result_0 = [*result_0, * temp]"
      ],
      "metadata": {
        "id": "HzWC2xOtDl-m"
      },
      "execution_count": null,
      "outputs": []
    },
    {
      "cell_type": "code",
      "source": [
        "len(result_0)"
      ],
      "metadata": {
        "colab": {
          "base_uri": "https://localhost:8080/"
        },
        "id": "oXn1IIxm_Ry6",
        "outputId": "9e1678f0-87f5-46f0-93b6-90a42357cc18"
      },
      "execution_count": null,
      "outputs": [
        {
          "output_type": "execute_result",
          "data": {
            "text/plain": [
              "1266"
            ]
          },
          "metadata": {},
          "execution_count": 4
        }
      ]
    },
    {
      "cell_type": "markdown",
      "source": [
        "# Sarcastic"
      ],
      "metadata": {
        "id": "uULApfPuFAcY"
      }
    },
    {
      "cell_type": "markdown",
      "source": [
        "## Scarping headlines from The Hard Times"
      ],
      "metadata": {
        "id": "1668wIFRFDK_"
      }
    },
    {
      "cell_type": "code",
      "source": [
        "result_1 = []\n",
        "for i in range(100):\n",
        "    url= 'https://thehardtimes.net/page/' + str(i) + '/'\n",
        "    response = requests.get(url)\n",
        "    soup = BeautifulSoup(response.text, 'html.parser')\n",
        "    headlines = soup.find('body').find_all('h2')\n",
        "    for x in headlines:\n",
        "        if x.text.strip() == 'Posts navigation' or x.text.strip() ==  'The Hard Times Blog' or x.text.strip() == 'Exclusives' or x.text.strip() == 'Hard Drive' or x.text.strip() == 'Sponsored Post' or x.text.strip() == 'Support the Hard Times!':\n",
        "            continue\n",
        "        else:\n",
        "            result_1.append(x.text.strip())\n"
      ],
      "metadata": {
        "id": "Srlkeucf_Yu3"
      },
      "execution_count": null,
      "outputs": []
    },
    {
      "cell_type": "code",
      "source": [
        "len(result_1)"
      ],
      "metadata": {
        "colab": {
          "base_uri": "https://localhost:8080/"
        },
        "id": "Jg-eY9S1Ay_M",
        "outputId": "1280af3d-ec47-4ee5-d463-d4b3f4804721"
      },
      "execution_count": null,
      "outputs": [
        {
          "output_type": "execute_result",
          "data": {
            "text/plain": [
              "1500"
            ]
          },
          "metadata": {},
          "execution_count": 11
        }
      ]
    },
    {
      "cell_type": "markdown",
      "source": [
        "# Combines non-sarcastic and sarcastic headlines"
      ],
      "metadata": {
        "id": "0vpp8mqNFIwJ"
      }
    },
    {
      "cell_type": "code",
      "source": [
        "result = [*result_0, *result_1]\n",
        "len(result)"
      ],
      "metadata": {
        "colab": {
          "base_uri": "https://localhost:8080/"
        },
        "id": "XTwFfoxsDOmD",
        "outputId": "6a7de0a4-25ab-4df1-bb4b-41bcb8db1200"
      },
      "execution_count": null,
      "outputs": [
        {
          "output_type": "execute_result",
          "data": {
            "text/plain": [
              "2766"
            ]
          },
          "metadata": {},
          "execution_count": 12
        }
      ]
    },
    {
      "cell_type": "markdown",
      "source": [
        "# Create dataframe"
      ],
      "metadata": {
        "id": "ydvOcJ-nFOB2"
      }
    },
    {
      "cell_type": "code",
      "source": [
        "df = pd.DataFrame (result, columns = ['Headline'])\n",
        "type_0 = [0] * len(result_0)\n",
        "type_1 = [1] * len(result_1)\n",
        "type = [*type_0, *type_1]\n",
        "df['is_sarcastic'] = type\n",
        "df"
      ],
      "metadata": {
        "colab": {
          "base_uri": "https://localhost:8080/",
          "height": 424
        },
        "id": "NwzGXCz2CHND",
        "outputId": "07793153-664a-4291-8285-4deb41e6504d"
      },
      "execution_count": null,
      "outputs": [
        {
          "output_type": "execute_result",
          "data": {
            "text/plain": [
              "                                               Headline  is_sarcastic\n",
              "0     Jif issues voluntary recall of certain peanut ...             0\n",
              "1     Potential salmonella contamination forces food...             0\n",
              "2            J.M. Smucker Recalling Select Jif Products             0\n",
              "3     Jif peanut butter recalled for salmonella cont...             0\n",
              "4     Asia-Pacific stocks set to open mixed as globa...             0\n",
              "...                                                 ...           ...\n",
              "2761            Straight Man Weirdly Jealous of Lesbian             1\n",
              "2762  We Look Back at All of Our Past Failures Becau...             1\n",
              "2763  Metal Band Offering Summer Internships to Medi...             1\n",
              "2764  Scrooge McDuck Has No Fucking Idea Where to Sw...             1\n",
              "2765  I Seriously Doubt All of These Bathroom Graffi...             1\n",
              "\n",
              "[2766 rows x 2 columns]"
            ],
            "text/html": [
              "\n",
              "  <div id=\"df-09316fa4-b8ea-4907-912d-b4809adc093b\">\n",
              "    <div class=\"colab-df-container\">\n",
              "      <div>\n",
              "<style scoped>\n",
              "    .dataframe tbody tr th:only-of-type {\n",
              "        vertical-align: middle;\n",
              "    }\n",
              "\n",
              "    .dataframe tbody tr th {\n",
              "        vertical-align: top;\n",
              "    }\n",
              "\n",
              "    .dataframe thead th {\n",
              "        text-align: right;\n",
              "    }\n",
              "</style>\n",
              "<table border=\"1\" class=\"dataframe\">\n",
              "  <thead>\n",
              "    <tr style=\"text-align: right;\">\n",
              "      <th></th>\n",
              "      <th>Headline</th>\n",
              "      <th>is_sarcastic</th>\n",
              "    </tr>\n",
              "  </thead>\n",
              "  <tbody>\n",
              "    <tr>\n",
              "      <th>0</th>\n",
              "      <td>Jif issues voluntary recall of certain peanut ...</td>\n",
              "      <td>0</td>\n",
              "    </tr>\n",
              "    <tr>\n",
              "      <th>1</th>\n",
              "      <td>Potential salmonella contamination forces food...</td>\n",
              "      <td>0</td>\n",
              "    </tr>\n",
              "    <tr>\n",
              "      <th>2</th>\n",
              "      <td>J.M. Smucker Recalling Select Jif Products</td>\n",
              "      <td>0</td>\n",
              "    </tr>\n",
              "    <tr>\n",
              "      <th>3</th>\n",
              "      <td>Jif peanut butter recalled for salmonella cont...</td>\n",
              "      <td>0</td>\n",
              "    </tr>\n",
              "    <tr>\n",
              "      <th>4</th>\n",
              "      <td>Asia-Pacific stocks set to open mixed as globa...</td>\n",
              "      <td>0</td>\n",
              "    </tr>\n",
              "    <tr>\n",
              "      <th>...</th>\n",
              "      <td>...</td>\n",
              "      <td>...</td>\n",
              "    </tr>\n",
              "    <tr>\n",
              "      <th>2761</th>\n",
              "      <td>Straight Man Weirdly Jealous of Lesbian</td>\n",
              "      <td>1</td>\n",
              "    </tr>\n",
              "    <tr>\n",
              "      <th>2762</th>\n",
              "      <td>We Look Back at All of Our Past Failures Becau...</td>\n",
              "      <td>1</td>\n",
              "    </tr>\n",
              "    <tr>\n",
              "      <th>2763</th>\n",
              "      <td>Metal Band Offering Summer Internships to Medi...</td>\n",
              "      <td>1</td>\n",
              "    </tr>\n",
              "    <tr>\n",
              "      <th>2764</th>\n",
              "      <td>Scrooge McDuck Has No Fucking Idea Where to Sw...</td>\n",
              "      <td>1</td>\n",
              "    </tr>\n",
              "    <tr>\n",
              "      <th>2765</th>\n",
              "      <td>I Seriously Doubt All of These Bathroom Graffi...</td>\n",
              "      <td>1</td>\n",
              "    </tr>\n",
              "  </tbody>\n",
              "</table>\n",
              "<p>2766 rows × 2 columns</p>\n",
              "</div>\n",
              "      <button class=\"colab-df-convert\" onclick=\"convertToInteractive('df-09316fa4-b8ea-4907-912d-b4809adc093b')\"\n",
              "              title=\"Convert this dataframe to an interactive table.\"\n",
              "              style=\"display:none;\">\n",
              "        \n",
              "  <svg xmlns=\"http://www.w3.org/2000/svg\" height=\"24px\"viewBox=\"0 0 24 24\"\n",
              "       width=\"24px\">\n",
              "    <path d=\"M0 0h24v24H0V0z\" fill=\"none\"/>\n",
              "    <path d=\"M18.56 5.44l.94 2.06.94-2.06 2.06-.94-2.06-.94-.94-2.06-.94 2.06-2.06.94zm-11 1L8.5 8.5l.94-2.06 2.06-.94-2.06-.94L8.5 2.5l-.94 2.06-2.06.94zm10 10l.94 2.06.94-2.06 2.06-.94-2.06-.94-.94-2.06-.94 2.06-2.06.94z\"/><path d=\"M17.41 7.96l-1.37-1.37c-.4-.4-.92-.59-1.43-.59-.52 0-1.04.2-1.43.59L10.3 9.45l-7.72 7.72c-.78.78-.78 2.05 0 2.83L4 21.41c.39.39.9.59 1.41.59.51 0 1.02-.2 1.41-.59l7.78-7.78 2.81-2.81c.8-.78.8-2.07 0-2.86zM5.41 20L4 18.59l7.72-7.72 1.47 1.35L5.41 20z\"/>\n",
              "  </svg>\n",
              "      </button>\n",
              "      \n",
              "  <style>\n",
              "    .colab-df-container {\n",
              "      display:flex;\n",
              "      flex-wrap:wrap;\n",
              "      gap: 12px;\n",
              "    }\n",
              "\n",
              "    .colab-df-convert {\n",
              "      background-color: #E8F0FE;\n",
              "      border: none;\n",
              "      border-radius: 50%;\n",
              "      cursor: pointer;\n",
              "      display: none;\n",
              "      fill: #1967D2;\n",
              "      height: 32px;\n",
              "      padding: 0 0 0 0;\n",
              "      width: 32px;\n",
              "    }\n",
              "\n",
              "    .colab-df-convert:hover {\n",
              "      background-color: #E2EBFA;\n",
              "      box-shadow: 0px 1px 2px rgba(60, 64, 67, 0.3), 0px 1px 3px 1px rgba(60, 64, 67, 0.15);\n",
              "      fill: #174EA6;\n",
              "    }\n",
              "\n",
              "    [theme=dark] .colab-df-convert {\n",
              "      background-color: #3B4455;\n",
              "      fill: #D2E3FC;\n",
              "    }\n",
              "\n",
              "    [theme=dark] .colab-df-convert:hover {\n",
              "      background-color: #434B5C;\n",
              "      box-shadow: 0px 1px 3px 1px rgba(0, 0, 0, 0.15);\n",
              "      filter: drop-shadow(0px 1px 2px rgba(0, 0, 0, 0.3));\n",
              "      fill: #FFFFFF;\n",
              "    }\n",
              "  </style>\n",
              "\n",
              "      <script>\n",
              "        const buttonEl =\n",
              "          document.querySelector('#df-09316fa4-b8ea-4907-912d-b4809adc093b button.colab-df-convert');\n",
              "        buttonEl.style.display =\n",
              "          google.colab.kernel.accessAllowed ? 'block' : 'none';\n",
              "\n",
              "        async function convertToInteractive(key) {\n",
              "          const element = document.querySelector('#df-09316fa4-b8ea-4907-912d-b4809adc093b');\n",
              "          const dataTable =\n",
              "            await google.colab.kernel.invokeFunction('convertToInteractive',\n",
              "                                                     [key], {});\n",
              "          if (!dataTable) return;\n",
              "\n",
              "          const docLinkHtml = 'Like what you see? Visit the ' +\n",
              "            '<a target=\"_blank\" href=https://colab.research.google.com/notebooks/data_table.ipynb>data table notebook</a>'\n",
              "            + ' to learn more about interactive tables.';\n",
              "          element.innerHTML = '';\n",
              "          dataTable['output_type'] = 'display_data';\n",
              "          await google.colab.output.renderOutput(dataTable, element);\n",
              "          const docLink = document.createElement('div');\n",
              "          docLink.innerHTML = docLinkHtml;\n",
              "          element.appendChild(docLink);\n",
              "        }\n",
              "      </script>\n",
              "    </div>\n",
              "  </div>\n",
              "  "
            ]
          },
          "metadata": {},
          "execution_count": 13
        }
      ]
    },
    {
      "cell_type": "markdown",
      "source": [
        "# Save dataframe"
      ],
      "metadata": {
        "id": "CMC_swqaFRt5"
      }
    },
    {
      "cell_type": "code",
      "source": [
        "df.to_csv('/content/drive/MyDrive/CS114/sarcasm/test/data.csv')"
      ],
      "metadata": {
        "id": "jTJa9SqDDe_B"
      },
      "execution_count": null,
      "outputs": []
    }
  ]
}